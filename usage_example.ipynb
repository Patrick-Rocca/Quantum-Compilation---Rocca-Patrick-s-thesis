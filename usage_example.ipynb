{
 "cells": [
  {
   "cell_type": "code",
   "execution_count": 1,
   "metadata": {},
   "outputs": [],
   "source": [
    "from QuantumCompilation import CircuitState,CircuitShape,CircuitOperations"
   ]
  },
  {
   "cell_type": "markdown",
   "metadata": {},
   "source": [
    "To build quantum circuits and represent them as quantum states we need a referring ```CircuitShape``` instance."
   ]
  },
  {
   "cell_type": "code",
   "execution_count": 2,
   "metadata": {},
   "outputs": [
    {
     "name": "stdout",
     "output_type": "stream",
     "text": [
      "0: ['ID', 'ID', 'ID', 'ID']\t\t Inf.=0\n",
      "1: ['ID', 'ID', 'Sc', 'St']\t\t Inf.=0\n",
      "2: ['ID', 'ID', 'CZc', 'CZt']\t\t Inf.=0.001\n",
      "3: ['ID', 'Sc', 'St', 'ID']\t\t Inf.=0\n",
      "4: ['ID', 'CZc', 'CZt', 'ID']\t\t Inf.=0.001\n",
      "5: ['ID', 'CZc', 'ID', 'CZt']\t\t Inf.=0.0015\n",
      "6: ['Sc', 'St', 'ID', 'ID']\t\t Inf.=0\n",
      "7: ['Sc', 'St', 'Sc', 'St']\t\t Inf.=0\n",
      "8: ['Sc', 'St', 'CZc', 'CZt']\t\t Inf.=0.001\n",
      "9: ['CZc', 'CZt', 'ID', 'ID']\t\t Inf.=0.001\n",
      "10: ['CZc', 'CZt', 'Sc', 'St']\t\t Inf.=0.001\n",
      "11: ['CZc', 'CZt', 'CZc', 'CZt']\t\t Inf.=0.003\n",
      "12: ['CZc', 'ID', 'CZt', 'ID']\t\t Inf.=0.0015\n",
      "13: ['CZc', 'CZc', 'CZt', 'CZt']\t\t Inf.=0.005\n",
      "\n"
     ]
    },
    {
     "data": {
      "text/plain": [
       "\"0: ['ID', 'ID', 'ID', 'ID']\\t\\t Inf.=0\\n1: ['ID', 'ID', 'Sc', 'St']\\t\\t Inf.=0\\n2: ['ID', 'ID', 'CZc', 'CZt']\\t\\t Inf.=0.001\\n3: ['ID', 'Sc', 'St', 'ID']\\t\\t Inf.=0\\n4: ['ID', 'CZc', 'CZt', 'ID']\\t\\t Inf.=0.001\\n5: ['ID', 'CZc', 'ID', 'CZt']\\t\\t Inf.=0.0015\\n6: ['Sc', 'St', 'ID', 'ID']\\t\\t Inf.=0\\n7: ['Sc', 'St', 'Sc', 'St']\\t\\t Inf.=0\\n8: ['Sc', 'St', 'CZc', 'CZt']\\t\\t Inf.=0.001\\n9: ['CZc', 'CZt', 'ID', 'ID']\\t\\t Inf.=0.001\\n10: ['CZc', 'CZt', 'Sc', 'St']\\t\\t Inf.=0.001\\n11: ['CZc', 'CZt', 'CZc', 'CZt']\\t\\t Inf.=0.003\\n12: ['CZc', 'ID', 'CZt', 'ID']\\t\\t Inf.=0.0015\\n13: ['CZc', 'CZc', 'CZt', 'CZt']\\t\\t Inf.=0.005\\n\""
      ]
     },
     "execution_count": 2,
     "metadata": {},
     "output_type": "execute_result"
    }
   ],
   "source": [
    "n_qubits = 4\n",
    "gates = { \n",
    "    1 : [ [\"ID\"] ],                         #0\n",
    "    2 : [   [\"Sc\",\"St\"],                    #1\n",
    "            [\"CZc\",\"CZt\"] ],                #2\n",
    "    3 : [ [\"CZc\",\"ID\",\"CZt\"] ],             #3\n",
    "    4 : [ [\"CZc\",\"CZc\",\"CZt\",\"CZt\"] ]       #4\n",
    "}\n",
    "\n",
    "infidelities = [0,0,1e-3,1.5e-3,5e-3] \n",
    "crosstalks = [\n",
    "    [0,0,0,0,0],\n",
    "    [0,0,0,0,0],\n",
    "    [0,0,1e-3,0,0],\n",
    "    [0,0,0,0,0],\n",
    "    [0,0,0,0,0]\n",
    "]\n",
    "\n",
    "shape = CircuitShape(n_qubits,gates,infidelities=infidelities,crosstalks=crosstalks,eq_dir=\"usage_example/equivalences\")\n",
    "shape.print_steps()"
   ]
  },
  {
   "cell_type": "markdown",
   "metadata": {},
   "source": [
    "Now, referring to ```shape```, we can create our circuits using ```CircuitState``` class, which stores them as quantum states."
   ]
  },
  {
   "cell_type": "code",
   "execution_count": 3,
   "metadata": {},
   "outputs": [
    {
     "data": {
      "text/html": [
       "<pre style=\"word-wrap: normal;white-space: pre;background: #fff0;line-height: 1.1;font-family: &quot;Courier New&quot;,Courier,monospace\">              \n",
       "q_0: ────■────\n",
       "         │    \n",
       "q_1: ─X──┼──■─\n",
       "      │  │  │ \n",
       "q_2: ─X──■──┼─\n",
       "            │ \n",
       "q_3: ───────■─\n",
       "              </pre>"
      ],
      "text/plain": [
       "              \n",
       "q_0: ────■────\n",
       "         │    \n",
       "q_1: ─X──┼──■─\n",
       "      │  │  │ \n",
       "q_2: ─X──■──┼─\n",
       "            │ \n",
       "q_3: ───────■─\n",
       "              "
      ]
     },
     "execution_count": 3,
     "metadata": {},
     "output_type": "execute_result"
    }
   ],
   "source": [
    "steps = [\n",
    "    ['ID','Sc', 'St',\"ID\"],\n",
    "    ['CZc','CZc', 'CZt', 'CZt']\n",
    "]\n",
    "\n",
    "circuit = CircuitState(shape,steps=steps)\n",
    "circuit.draw()"
   ]
  },
  {
   "cell_type": "markdown",
   "metadata": {},
   "source": [
    "To simulate the compilation, we need to find the equivalences that will be encoded in the driving Hamiltonian."
   ]
  },
  {
   "cell_type": "code",
   "execution_count": null,
   "metadata": {},
   "outputs": [],
   "source": [
    "dmax = 2\n",
    "shape.find_equivalences(dmax) #saves files containing the equivalences in the directory specified to the constructor"
   ]
  },
  {
   "cell_type": "markdown",
   "metadata": {},
   "source": [
    "The simulation is handled by ```CircuiOperation``` class, which, given a shape, calculates all the creation and destruction operators."
   ]
  },
  {
   "cell_type": "code",
   "execution_count": 6,
   "metadata": {},
   "outputs": [],
   "source": [
    "op = CircuitOperations(shape)\n",
    "\n",
    "n_steps=2\n",
    "op.load_H(dmax,n_steps) #load driving and infidelity Hamiltonians as attributes of op"
   ]
  },
  {
   "cell_type": "markdown",
   "metadata": {},
   "source": [
    "Loaded the two Hamiltonians we are ready to compile ```circuit```."
   ]
  },
  {
   "cell_type": "code",
   "execution_count": 7,
   "metadata": {},
   "outputs": [
    {
     "data": {
      "text/html": [
       "<pre style=\"word-wrap: normal;white-space: pre;background: #fff0;line-height: 1.1;font-family: &quot;Courier New&quot;,Courier,monospace\">           \n",
       "q_0: ─■────\n",
       "      │    \n",
       "q_1: ─■──X─\n",
       "         │ \n",
       "q_2: ─■──X─\n",
       "      │    \n",
       "q_3: ─■────\n",
       "           </pre>"
      ],
      "text/plain": [
       "           \n",
       "q_0: ─■────\n",
       "      │    \n",
       "q_1: ─■──X─\n",
       "         │ \n",
       "q_2: ─■──X─\n",
       "      │    \n",
       "q_3: ─■────\n",
       "           "
      ]
     },
     "execution_count": 7,
     "metadata": {},
     "output_type": "execute_result"
    }
   ],
   "source": [
    "compiled_circuit = op.compile(circuit)\n",
    "\n",
    "compiled_circuit.measure().draw()"
   ]
  },
  {
   "cell_type": "code",
   "execution_count": 13,
   "metadata": {},
   "outputs": [
    {
     "name": "stdout",
     "output_type": "stream",
     "text": [
      "Initial infidelity: 0.005\n",
      "Final infidelity: 0.003\n",
      "\n",
      "Is the final circuit equivalent to the inital one? True\n"
     ]
    }
   ],
   "source": [
    "print(\"Initial infidelity:\",CircuitOperations.expected_value(op.get_Hi(n_steps),circuit))\n",
    "print(\"Final infidelity:\",CircuitOperations.expected_value(op.get_Hi(n_steps),compiled_circuit))\n",
    "print()\n",
    "print(\"Is the final circuit equivalent to the inital one?\", circuit.equivalent(compiled_circuit))"
   ]
  }
 ],
 "metadata": {
  "kernelspec": {
   "display_name": "Python 3",
   "language": "python",
   "name": "python3"
  },
  "language_info": {
   "codemirror_mode": {
    "name": "ipython",
    "version": 3
   },
   "file_extension": ".py",
   "mimetype": "text/x-python",
   "name": "python",
   "nbconvert_exporter": "python",
   "pygments_lexer": "ipython3",
   "version": "3.11.5"
  }
 },
 "nbformat": 4,
 "nbformat_minor": 2
}
